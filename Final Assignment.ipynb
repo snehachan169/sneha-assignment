{
 "cells": [
  {
   "cell_type": "markdown",
   "id": "b38b2fc7",
   "metadata": {},
   "source": [
    "# Data Science Tools and Ecosystem\n",
    "\n",
    "In this notebook, Data Science Tools and Ecosystem are summarized.\n",
    "\n",
    "##### Objectives:\n",
    "\n",
    "popular languages for Data Science:\n",
    "\n",
    "1.R\n",
    "\n",
    "2.SQL\n",
    "\n",
    "3.Javascript\n",
    "\n",
    "Some of the popular languages that Data Scientists use are:\n",
    "\n",
    "1.Python\n",
    "\n",
    "2.SQL\n",
    "\n",
    "3.R\n",
    "\n",
    "Some of the commonly used libraries used by Data Scientists include:\n",
    "\n",
    "1.Numpy\n",
    "\n",
    "2.Pandas\n",
    "\n",
    "3.Seaborn\n"
   ]
  },
  {
   "cell_type": "code",
   "execution_count": 5,
   "id": "9b9fe2d7",
   "metadata": {},
   "outputs": [
    {
     "name": "stdout",
     "output_type": "stream",
     "text": [
      "  Data Science Tools\n",
      "0      Apache Hadoop\n",
      "1         TensorFlow\n",
      "2            RStudio\n"
     ]
    }
   ],
   "source": [
    "import pandas as pd \n",
    "data={'Data Science Tools':['Apache Hadoop','TensorFlow','RStudio']} \n",
    "chan=pd.DataFrame(data) \n",
    "print(chan)"
   ]
  },
  {
   "cell_type": "markdown",
   "id": "b2a9228e",
   "metadata": {},
   "source": [
    "### Below are a few examples of evaluating arithmetic expressions in Python\n",
    "\n",
    "This a simple arithmetic expression to mutiply then add integers"
   ]
  },
  {
   "cell_type": "code",
   "execution_count": 6,
   "id": "61f5adf0",
   "metadata": {},
   "outputs": [
    {
     "name": "stdout",
     "output_type": "stream",
     "text": [
      "17\n"
     ]
    }
   ],
   "source": [
    "print((3*4)+5)"
   ]
  },
  {
   "cell_type": "markdown",
   "id": "eb2feb63",
   "metadata": {},
   "source": [
    "This will convert 200 minutes to hours by diving by 60"
   ]
  },
  {
   "cell_type": "code",
   "execution_count": 7,
   "id": "03b6bffb",
   "metadata": {},
   "outputs": [
    {
     "name": "stdout",
     "output_type": "stream",
     "text": [
      "3.3333333333333335\n"
     ]
    }
   ],
   "source": [
    "print(200/60)"
   ]
  },
  {
   "cell_type": "markdown",
   "id": "ba801de0",
   "metadata": {},
   "source": [
    "## Author\n",
    "Sneha Chan"
   ]
  },
  {
   "cell_type": "code",
   "execution_count": null,
   "id": "590598b2",
   "metadata": {},
   "outputs": [],
   "source": []
  }
 ],
 "metadata": {
  "kernelspec": {
   "display_name": "Python 3 (ipykernel)",
   "language": "python",
   "name": "python3"
  },
  "language_info": {
   "codemirror_mode": {
    "name": "ipython",
    "version": 3
   },
   "file_extension": ".py",
   "mimetype": "text/x-python",
   "name": "python",
   "nbconvert_exporter": "python",
   "pygments_lexer": "ipython3",
   "version": "3.9.13"
  }
 },
 "nbformat": 4,
 "nbformat_minor": 5
}
